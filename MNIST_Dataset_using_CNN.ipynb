{
 "cells": [
  {
   "cell_type": "markdown",
   "metadata": {},
   "source": [
    "## The MNIST Dataset\n",
    "**Author:** Rudra Nath Palit\n",
    "\n",
    "## Reading Dataset\n",
    "The data in the MNIST dataset is present in idx format. This is a binary format which makes it faster to access and less memory intensive compared to textual file systems such as `.csv`. The idx format is required to be loaded into numpy arrays for processing. The details regarding the format are given in the website itself."
   ]
  },
  {
   "cell_type": "code",
   "execution_count": 2,
   "metadata": {},
   "outputs": [
    {
     "name": "stdout",
     "output_type": "stream",
     "text": [
      "x_train: (60000, 28, 28)\ty_train: (60000,)\n",
      "x_test: (10000, 28, 28)\t\ty_test: (10000,)\n"
     ]
    }
   ],
   "source": [
    "import numpy as np\n",
    "import struct as st\n",
    "\n",
    "# Defining function to format idx to matrices\n",
    "def openIdx(f):\n",
    "    f.seek(0)\n",
    "    ndims = st.unpack('>4B', f.read(4))[3]\n",
    "    dims = np.zeros((ndims,), np.int64)\n",
    "    for i in range(ndims):\n",
    "        dims[i] = st.unpack('>I', f.read(4))[0]\n",
    "    totalBytes = dims.prod()\n",
    "    \n",
    "    data = np.array(st.unpack('>' + 'B'*totalBytes, f.read(totalBytes))).reshape(dims)\n",
    "    return data\n",
    "\n",
    "# Opening files\n",
    "img_train = open('data/train-images.idx3-ubyte', 'rb')\n",
    "label_train = open('data/train-labels.idx1-ubyte', 'rb')\n",
    "img_test = open('data/t10k-images.idx3-ubyte', 'rb')\n",
    "label_test = open('data/t10k-labels.idx1-ubyte', 'rb')\n",
    "\n",
    "x_train = openIdx(img_train)\n",
    "y_train = openIdx(label_train)\n",
    "x_test = openIdx(img_test)\n",
    "y_test = openIdx(label_test)\n",
    "\n",
    "# Print Data shape\n",
    "print('x_train: {}\\ty_train: {}\\nx_test: {}\\t\\ty_test: {}'.format(x_train.shape, y_train.shape, x_test.shape, y_test.shape))\n",
    "\n",
    "# Close Image handles\n",
    "img_train.close()\n",
    "label_train.close()\n",
    "img_test.close()\n",
    "label_test.close()"
   ]
  },
  {
   "cell_type": "markdown",
   "metadata": {},
   "source": [
    "## Data Preparation\n",
    "Here, we are normalizing the image data ranging from 0 to 255 and convert it to a range between 0-1. This helps to converge faster. Moreover, we are converting the 2D Image data of shape 28x28 into a 1D vector of length 784."
   ]
  },
  {
   "cell_type": "code",
   "execution_count": 3,
   "metadata": {},
   "outputs": [],
   "source": [
    "# Normalizing data\n",
    "x_train_norm = x_train.astype(np.float32) /255.0 \n",
    "x_test_norm = x_test.astype(np.float32) /255.0\n",
    "\n",
    "# Seralize Data\n",
    "x_train_ser = x_train_norm.reshape(x_train_norm.shape[0], -1)\n",
    "x_test_ser = x_test_norm.reshape(x_test_norm.shape[0], -1)"
   ]
  },
  {
   "cell_type": "markdown",
   "metadata": {},
   "source": [
    "## cNN Development\n",
    "Here, we are developing a two hidden layer Neural Network with 128 Nodes each. The input contains 28x28 = 784 nodes and the output has 10 Nodes denoting the 10 digits in the number system. To implement this, we are using the Tensorflow framework with Keras. "
   ]
  },
  {
   "cell_type": "code",
   "execution_count": 4,
   "metadata": {},
   "outputs": [
    {
     "name": "stdout",
     "output_type": "stream",
     "text": [
      "Model: \"sequential\"\n",
      "_________________________________________________________________\n",
      " Layer (type)                Output Shape              Param #   \n",
      "=================================================================\n",
      " dense (Dense)               (None, 128)               100480    \n",
      "                                                                 \n",
      " dense_1 (Dense)             (None, 128)               16512     \n",
      "                                                                 \n",
      " dense_2 (Dense)             (None, 10)                1290      \n",
      "                                                                 \n",
      "=================================================================\n",
      "Total params: 118,282\n",
      "Trainable params: 118,282\n",
      "Non-trainable params: 0\n",
      "_________________________________________________________________\n"
     ]
    }
   ],
   "source": [
    "import tensorflow as tf\n",
    "\n",
    "# The Net\n",
    "model = tf.keras.models.Sequential()\n",
    "model.add(tf.keras.layers.Dense(128, input_shape = (784,), activation = 'relu'))\n",
    "model.add(tf.keras.layers.Dense(128, activation = 'relu'))\n",
    "model.add(tf.keras.layers.Dense(10, activation = 'softmax'))\n",
    "model.compile(optimizer='adam', loss = 'sparse_categorical_crossentropy', metrics = ['accuracy'])\n",
    "\n",
    "model.summary()"
   ]
  },
  {
   "cell_type": "code",
   "execution_count": 5,
   "metadata": {},
   "outputs": [
    {
     "name": "stdout",
     "output_type": "stream",
     "text": [
      "Epoch 1/3\n",
      "1875/1875 [==============================] - 3s 1ms/step - loss: 0.2299 - accuracy: 0.9316\n",
      "Epoch 2/3\n",
      "1875/1875 [==============================] - 2s 1ms/step - loss: 0.0961 - accuracy: 0.9705\n",
      "Epoch 3/3\n",
      "1875/1875 [==============================] - 2s 1ms/step - loss: 0.0665 - accuracy: 0.9787\n",
      "INFO:tensorflow:Assets written to: mnist.model\\assets\n"
     ]
    }
   ],
   "source": [
    "# Training\n",
    "model.fit(x = x_train_ser, y = y_train, epochs = 3)\n",
    "\n",
    "# Save Model\n",
    "model.save('mnist.model')"
   ]
  },
  {
   "cell_type": "markdown",
   "metadata": {},
   "source": [
    "## Model Evaluation\n",
    "Here, we are finally loading the trained model and evaluate its accuracy based on our test dataset."
   ]
  },
  {
   "cell_type": "code",
   "execution_count": 6,
   "metadata": {},
   "outputs": [
    {
     "name": "stdout",
     "output_type": "stream",
     "text": [
      "313/313 [==============================] - 0s 930us/step - loss: 0.0787 - accuracy: 0.9771\n",
      "Loss:\t\t0.08\n",
      "Accuracy:\t97.71%\n"
     ]
    }
   ],
   "source": [
    "model = tf.keras.models.load_model('mnist.model')\n",
    "loss, accuracy = model.evaluate(x_test_ser, y_test)\n",
    "print('Loss:\\t\\t{:.2f}\\nAccuracy:\\t{:.2f}%'.format(loss, accuracy*100))"
   ]
  }
 ],
 "metadata": {
  "interpreter": {
   "hash": "a3a4b090d1bdfb007c1f787e1ed8a3f005c1459e484a92176c7b7a3e001bd3ca"
  },
  "kernelspec": {
   "display_name": "Python 3.9.6 64-bit",
   "language": "python",
   "name": "python3"
  },
  "language_info": {
   "codemirror_mode": {
    "name": "ipython",
    "version": 3
   },
   "file_extension": ".py",
   "mimetype": "text/x-python",
   "name": "python",
   "nbconvert_exporter": "python",
   "pygments_lexer": "ipython3",
   "version": "3.9.6"
  },
  "orig_nbformat": 4
 },
 "nbformat": 4,
 "nbformat_minor": 2
}
